{
 "cells": [
  {
   "cell_type": "markdown",
   "metadata": {},
   "source": [
    "<center>\n",
    "    <img src=\"https://s3-api.us-geo.objectstorage.softlayer.net/cf-courses-data/CognitiveClass/Logos/organization_logo/organization_logo.png\" width=\"300\" alt=\"cognitiveclass.ai logo\"  />\n",
    "</center>\n"
   ]
  },
  {
   "cell_type": "markdown",
   "metadata": {},
   "source": [
    "#### Add your code below following the instructions given in the course\n"
   ]
  },
  {
   "cell_type": "markdown",
   "metadata": {},
   "source": [
    "# My Jupyter Notebook on IBM Watson Studio"
   ]
  },
  {
   "cell_type": "markdown",
   "metadata": {},
   "source": [
    "**Carlos Mauricio Bula Oyuela**  \n",
    "Data Scientist"
   ]
  },
  {
   "cell_type": "markdown",
   "metadata": {},
   "source": [
    "*I'm interested in data science because it is the conjunction of statistics, science and computation with for problem solving and project oriented jobs.*  "
   ]
  },
  {
   "cell_type": "markdown",
   "metadata": {},
   "source": [
    "### My code is suppose to print the distance between two vectors"
   ]
  },
  {
   "cell_type": "code",
   "execution_count": 8,
   "metadata": {},
   "outputs": [
    {
     "name": "stdout",
     "output_type": "stream",
     "text": [
      "The distance between array a and b is: 3.0 units\n"
     ]
    }
   ],
   "source": [
    "import numpy as np\n",
    "\n",
    "a = np.array([1, 0, 0])\n",
    "b = np.array([3, 2, 1])\n",
    "\n",
    "dist = np.linalg.norm(a-b)\n",
    "print(\"The distance between array a and b is: {} units\".format(dist))"
   ]
  },
  {
   "cell_type": "markdown",
   "metadata": {},
   "source": [
    "___\n",
    "* Horizontal rule has been made.\n",
    "* Next there will be a table.\n",
    "* Finally, you can find the rest of elements in the list.\n",
    "\n",
    "| Element | Position |\n",
    "|---------|----------|\n",
    "|horizontal rule | 1 |\n",
    "| bullet list | 2 |\n",
    "| Table | 3 |\n",
    "| Numbered list | 4 |\n",
    "| hyperlink | 5 |\n",
    "| image | 6 |\n",
    "| code/syntax highlighting | 7 |\n",
    "| blocked quotes | 8 |\n",
    "| strikethrough | 9 |\n",
    "\n",
    "1. This\n",
    "2. Is\n",
    "3. A\n",
    "4. Numbered\n",
    "5. List\n",
    "\n",
    "[Click to read some news from BBC! ](https://www.bbc.com/news)\n",
    "\n",
    "Say hi to black hole...  \n",
    "![black_hole](http://cdn.sci-news.com/images/2019/04/image_7079-Black-Hole-Image.jpg)\n",
    "\n",
    "This is the same previous code   \n",
    "```\n",
    "import numpy as np\n",
    "\n",
    "a = np.array([1, 0, 0])\n",
    "b = np.array([3, 2, 1])\n",
    "\n",
    "dist = np.linalg.norm(a-b)\n",
    "print(\"The distance between array a and b is: {} units\".format(dist))\n",
    "```\n",
    "\n",
    "> Often makes no sense.\n",
    "> > Commenting above your quote…\n",
    "\n",
    "~~Didn't know what was a strikethrough. Not an english native.. but now I know :).~~"
   ]
  },
  {
   "cell_type": "code",
   "execution_count": null,
   "metadata": {},
   "outputs": [],
   "source": []
  }
 ],
 "metadata": {
  "kernelspec": {
   "display_name": "Python",
   "language": "python",
   "name": "conda-env-python-py"
  },
  "language_info": {
   "codemirror_mode": {
    "name": "ipython",
    "version": 3
   },
   "file_extension": ".py",
   "mimetype": "text/x-python",
   "name": "python",
   "nbconvert_exporter": "python",
   "pygments_lexer": "ipython3",
   "version": "3.7.12"
  }
 },
 "nbformat": 4,
 "nbformat_minor": 4
}
